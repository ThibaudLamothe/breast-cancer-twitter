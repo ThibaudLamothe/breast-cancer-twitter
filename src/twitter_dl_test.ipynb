{
 "cells": [
  {
   "cell_type": "markdown",
   "metadata": {},
   "source": [
    "https://www.earthdatascience.org/courses/earth-analytics-python/using-apis-natural-language-processing-twitter/get-and-use-twitter-data-in-python/"
   ]
  },
  {
   "cell_type": "code",
   "execution_count": 1,
   "metadata": {},
   "outputs": [],
   "source": [
    "import os\n",
    "import pickle\n",
    "import pandas as pd\n",
    "import tweepy as tw\n",
    "from twitter import *"
   ]
  },
  {
   "cell_type": "markdown",
   "metadata": {},
   "source": [
    "# Connnection to Twitter API"
   ]
  },
  {
   "cell_type": "code",
   "execution_count": 2,
   "metadata": {},
   "outputs": [],
   "source": [
    "# Load config\n",
    "config = get_config('../config.ini')\n",
    "\n",
    "consumer_key= config['keys']['consumer_key']\n",
    "consumer_secret= config['keys']['consumer_secret']\n",
    "access_token= config['keys']['access_token']\n",
    "access_token_secret= config['keys']['access_token_secret']"
   ]
  },
  {
   "cell_type": "code",
   "execution_count": 3,
   "metadata": {},
   "outputs": [],
   "source": [
    "auth = tw.OAuthHandler(consumer_key, consumer_secret)\n",
    "auth.set_access_token(access_token, access_token_secret)\n",
    "api = tw.API(auth, wait_on_rate_limit=True)"
   ]
  },
  {
   "cell_type": "markdown",
   "metadata": {},
   "source": [
    "# Making request"
   ]
  },
  {
   "cell_type": "code",
   "execution_count": 4,
   "metadata": {},
   "outputs": [],
   "source": [
    "search_words = \"#Eramet\"\n",
    "search_words = \"#breastcancer -filter:retweets\"\n",
    "search_words = \"#Covid -filter:retweets\"\n",
    "\n",
    "date_since = '2020-03-30 07:40:48'"
   ]
  },
  {
   "cell_type": "code",
   "execution_count": 5,
   "metadata": {},
   "outputs": [],
   "source": [
    "tweets = tw.Cursor(\n",
    "    api.search,\n",
    "    q=search_words,\n",
    "    lang=\"fr\",\n",
    "    #since=date_since\n",
    ").items(10)"
   ]
  },
  {
   "cell_type": "markdown",
   "metadata": {},
   "source": [
    "# Saving into different files"
   ]
  },
  {
   "cell_type": "code",
   "execution_count": 6,
   "metadata": {},
   "outputs": [],
   "source": [
    "folder_nb = 1"
   ]
  },
  {
   "cell_type": "code",
   "execution_count": 7,
   "metadata": {},
   "outputs": [],
   "source": [
    "c = 0\n",
    "tweet_per_file = 100\n",
    "tweet_list = []\n",
    "\n",
    "for tweet in tweets:\n",
    "    if c%tweet_per_file==0:\n",
    "        path = '../data/tmp/{}/tweet_list_{}.p'.format(folder_nb, int(c/100))\n",
    "        with open(path, 'wb') as pfile:\n",
    "            pickle.dump(tweet_list, pfile, protocol=pickle.HIGHEST_PROTOCOL)\n",
    "        tweet_list = []\n",
    "\n",
    "    tweet_list.append(tweet)\n",
    "    c+=1\n",
    "\n",
    "# Saving final results\n",
    "path = '../data/tmp/{}/tweet_list_fin.p'.format(folder_nb)\n",
    "with open(path, 'wb') as pfile:\n",
    "    pickle.dump(tweet_list, pfile, protocol=pickle.HIGHEST_PROTOCOL)"
   ]
  },
  {
   "cell_type": "code",
   "execution_count": 8,
   "metadata": {},
   "outputs": [
    {
     "name": "stdout",
     "output_type": "stream",
     "text": [
      "10\n"
     ]
    }
   ],
   "source": [
    "print(len(tweet_list))"
   ]
  },
  {
   "cell_type": "markdown",
   "metadata": {},
   "source": [
    "# Reloading tweets"
   ]
  },
  {
   "cell_type": "code",
   "execution_count": 9,
   "metadata": {},
   "outputs": [],
   "source": [
    "folder_nb = 1"
   ]
  },
  {
   "cell_type": "code",
   "execution_count": 10,
   "metadata": {},
   "outputs": [
    {
     "name": "stdout",
     "output_type": "stream",
     "text": [
      "10\n"
     ]
    }
   ],
   "source": [
    "folder_path = '../data/tmp/{}/'.format(folder_nb)\n",
    "files = os.listdir(folder_path)\n",
    "files = [file for file in files if 'tweet_list' in file]\n",
    "\n",
    "tweet_list = []\n",
    "for file in files:\n",
    "    file = folder_path + file\n",
    "    with open(file, 'rb') as pfile:\n",
    "        tl = pickle.load(pfile)\n",
    "    tweet_list += tl\n",
    "print(len(tweet_list))"
   ]
  },
  {
   "cell_type": "code",
   "execution_count": 11,
   "metadata": {},
   "outputs": [
    {
     "name": "stdout",
     "output_type": "stream",
     "text": [
      "> 2020-05-05 08:22:38\n",
      "> 1257586487543111685\n",
      "Vers un changement radical de la gouvernance du sport.\n",
      "\n",
      "L'innovation technique &amp; technologique était jusqu'à présen… https://t.co/dDMmVTkJSi\n"
     ]
    }
   ],
   "source": [
    "tweet_nb = 1\n",
    "tweet = tweet_list[tweet_nb]\n",
    "print('>', tweet.created_at)   \n",
    "print('>', tweet.id)\n",
    "print(tweet.text)"
   ]
  },
  {
   "cell_type": "code",
   "execution_count": null,
   "metadata": {},
   "outputs": [],
   "source": []
  }
 ],
 "metadata": {
  "kernelspec": {
   "display_name": "Python 3.8.2 64-bit ('breastcancer': conda)",
   "language": "python",
   "name": "python38264bitbreastcancercondadd8c523b442144da978b16e4dbc9b982"
  },
  "language_info": {
   "codemirror_mode": {
    "name": "ipython",
    "version": 3
   },
   "file_extension": ".py",
   "mimetype": "text/x-python",
   "name": "python",
   "nbconvert_exporter": "python",
   "pygments_lexer": "ipython3",
   "version": "3.8.2"
  }
 },
 "nbformat": 4,
 "nbformat_minor": 4
}
