{
 "cells": [
  {
   "cell_type": "markdown",
   "metadata": {},
   "source": [
    "https://www.earthdatascience.org/courses/earth-analytics-python/using-apis-natural-language-processing-twitter/get-and-use-twitter-data-in-python/"
   ]
  },
  {
   "cell_type": "code",
   "execution_count": 3,
   "metadata": {
    "ExecuteTime": {
     "end_time": "2019-10-30T22:38:09.308133Z",
     "start_time": "2019-10-30T22:38:09.303239Z"
    }
   },
   "outputs": [],
   "source": [
    "import os\n",
    "import pandas as pd\n",
    "import tweepy as tw"
   ]
  },
  {
   "cell_type": "code",
   "execution_count": 4,
   "metadata": {
    "ExecuteTime": {
     "end_time": "2019-10-30T22:38:09.598947Z",
     "start_time": "2019-10-30T22:38:09.594596Z"
    }
   },
   "outputs": [],
   "source": [
    "import credentials as c"
   ]
  },
  {
   "cell_type": "code",
   "execution_count": 5,
   "metadata": {
    "ExecuteTime": {
     "end_time": "2019-10-30T22:38:09.878954Z",
     "start_time": "2019-10-30T22:38:09.873693Z"
    }
   },
   "outputs": [],
   "source": [
    "consumer_key= c.consumer_key\n",
    "consumer_secret= c.consumer_secret\n",
    "access_token= c.access_token\n",
    "access_token_secret= c.access_token_secret"
   ]
  },
  {
   "cell_type": "code",
   "execution_count": 6,
   "metadata": {
    "ExecuteTime": {
     "end_time": "2019-10-30T22:38:10.296692Z",
     "start_time": "2019-10-30T22:38:10.288986Z"
    }
   },
   "outputs": [],
   "source": [
    "auth = tw.OAuthHandler(consumer_key, consumer_secret)\n",
    "auth.set_access_token(access_token, access_token_secret)\n",
    "api = tw.API(auth, wait_on_rate_limit=True)"
   ]
  },
  {
   "cell_type": "code",
   "execution_count": 7,
   "metadata": {
    "ExecuteTime": {
     "end_time": "2019-10-30T22:38:11.315759Z",
     "start_time": "2019-10-30T22:38:11.310706Z"
    }
   },
   "outputs": [],
   "source": [
    "search_words = \"#Eramet\"\n",
    "search_words = \"#Traumatrix -filter:retweets\"\n",
    "#date_since = \"2018-11-16\""
   ]
  },
  {
   "cell_type": "code",
   "execution_count": 8,
   "metadata": {
    "ExecuteTime": {
     "end_time": "2019-10-30T22:38:12.365139Z",
     "start_time": "2019-10-30T22:38:12.357946Z"
    }
   },
   "outputs": [],
   "source": [
    "tweets = tw.Cursor(api.search,\n",
    "              q=search_words,\n",
    "              lang=\"fr\",\n",
    "              #since=date_since\n",
    "                  ).items(15)"
   ]
  },
  {
   "cell_type": "code",
   "execution_count": 9,
   "metadata": {
    "ExecuteTime": {
     "end_time": "2019-10-30T22:38:13.345809Z",
     "start_time": "2019-10-30T22:38:12.952284Z"
    }
   },
   "outputs": [
    {
     "name": "stdout",
     "output_type": "stream",
     "text": [
      "[À lire 📖] @CapgeminiInvent, @APHP, @CNRS, @EHESS_fr, @Polytechnique &amp; @TraumabaseFR s'allient autour d'un outil po… https://t.co/cPFwhnUdaX\n",
      "2019-10-29 07:03:51\n",
      "#Santé : Focus sur #TrauMatrix, le partenariat de recherche pour la gestion des traumatismes graves dans les premiè… https://t.co/p6eGcm1mGB\n",
      "2019-10-28 21:19:29\n",
      "IA de santé : #traumatrix réunit médecins, chercheurs et data scientists #revuedudigital https://t.co/V6umi2WFM6 https://t.co/XRJHR6ug7N\n",
      "2019-10-28 15:31:42\n",
      "#data #IA #urgences Le projet #TrauMatrix d'aide à la décision en #anesthésieréanimation en cas de traumatisme grav… https://t.co/UDtdIoBkSB\n",
      "2019-10-28 09:40:05\n",
      "#Traumatrix\n",
      "\n",
      "Immense privilège pour nous de coopérer avec nos partenaires l’@EHESS_fr, @Polytechnique et… https://t.co/XcrBBBjeoY\n",
      "2019-10-26 09:40:18\n",
      "🇫🇷 #TrauMatrix : l'Intelligence Artificielle au service des soins aux patients gravement traumatisés - CNRS… https://t.co/Qqa0YxLw8W\n",
      "2019-10-26 07:06:24\n",
      "@Polytechnique @APHP @TraumabaseFR @CNRS @EHESS_fr @CapgeminiInvent #Traumatrix Nous sommes tres heureux d'avoir le… https://t.co/2DACwDpwcv\n",
      "2019-10-26 06:01:14\n",
      "TrauMatrix : l’Intelligence Artificielle au service des soins aux patients gravement traumatisés https://t.co/vUAijc8XvK #traumatrix\n",
      "2019-10-25 21:31:59\n",
      "🧠 #TrauMatrix : l’IA au service des soins aux patients gravement traumatisés. Un partenariat de recherche scientifi… https://t.co/Mcu6SEAVzL\n",
      "2019-10-25 13:07:33\n",
      "Découvrez le projet #TrauMatrix, une démarche intégrant l’#IA dans les diagnostics et prise de décision des médecin… https://t.co/fui0mJjyCG\n",
      "2019-10-25 10:35:09\n",
      "#TrauMatrix : l’Intelligence Artificielle #IA au service des soins aux patients gravement traumatisés… https://t.co/i3nE8yz6Tj\n",
      "2019-10-25 10:11:43\n",
      "[#Communiqué]\n",
      "Lancement du projet #TrauMatrix qui allie #IA et médecine pour améliorer la prise en charge et la str… https://t.co/znYOs5WyTo\n",
      "2019-10-25 09:34:29\n",
      "#Communiqué 🗞️ | Lancement de #TrauMatrix, un partenariat de recherche scientifique et médicale visant à développer… https://t.co/1OJLzlfe1c\n",
      "2019-10-25 08:23:36\n",
      "L'X est fière de participer au lancement de #TrauMatrix, un partenariat de #recherche #scientifique et #médicale qu… https://t.co/DuoFLzInk7\n",
      "2019-10-23 15:34:34\n",
      "[IA] #TrauMatrix @hopitalbeaujon  @APHP heureux de participer à ce partenariat pour développer les outils d’aide à… https://t.co/QJJKX2mpou\n",
      "2019-10-23 10:38:42\n"
     ]
    }
   ],
   "source": [
    "tweet_list = []\n",
    "for tweet in tweets:\n",
    "    tweet_list.append(tweet)\n",
    "    print(tweet.text)\n",
    "    print(tweet.created_at)\n",
    "    #print(tweet.author)"
   ]
  },
  {
   "cell_type": "code",
   "execution_count": 10,
   "metadata": {
    "ExecuteTime": {
     "end_time": "2019-10-30T22:38:15.260074Z",
     "start_time": "2019-10-30T22:38:15.245195Z"
    }
   },
   "outputs": [
    {
     "data": {
      "text/plain": [
       "datetime.datetime(2019, 10, 23, 10, 38, 42)"
      ]
     },
     "execution_count": 10,
     "metadata": {},
     "output_type": "execute_result"
    }
   ],
   "source": [
    "tweet.created_at"
   ]
  },
  {
   "cell_type": "code",
   "execution_count": null,
   "metadata": {},
   "outputs": [],
   "source": []
  },
  {
   "cell_type": "code",
   "execution_count": null,
   "metadata": {},
   "outputs": [],
   "source": []
  }
 ],
 "metadata": {
  "kernelspec": {
   "display_name": "Python 3",
   "language": "python",
   "name": "python3"
  },
  "language_info": {
   "codemirror_mode": {
    "name": "ipython",
    "version": 3
   },
   "file_extension": ".py",
   "mimetype": "text/x-python",
   "name": "python",
   "nbconvert_exporter": "python",
   "pygments_lexer": "ipython3",
   "version": "3.7.3"
  },
  "toc": {
   "base_numbering": 1,
   "nav_menu": {},
   "number_sections": true,
   "sideBar": true,
   "skip_h1_title": false,
   "title_cell": "Table of Contents",
   "title_sidebar": "Contents",
   "toc_cell": false,
   "toc_position": {},
   "toc_section_display": true,
   "toc_window_display": false
  },
  "varInspector": {
   "cols": {
    "lenName": 16,
    "lenType": 16,
    "lenVar": 40
   },
   "kernels_config": {
    "python": {
     "delete_cmd_postfix": "",
     "delete_cmd_prefix": "del ",
     "library": "var_list.py",
     "varRefreshCmd": "print(var_dic_list())"
    },
    "r": {
     "delete_cmd_postfix": ") ",
     "delete_cmd_prefix": "rm(",
     "library": "var_list.r",
     "varRefreshCmd": "cat(var_dic_list()) "
    }
   },
   "types_to_exclude": [
    "module",
    "function",
    "builtin_function_or_method",
    "instance",
    "_Feature"
   ],
   "window_display": false
  }
 },
 "nbformat": 4,
 "nbformat_minor": 2
}
